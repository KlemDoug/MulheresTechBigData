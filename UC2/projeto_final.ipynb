{
 "cells": [
  {
   "cell_type": "markdown",
   "metadata": {},
   "source": [
    "**Análise Descritiva de Fonte de Dados Externa para um Tratamento de Big Data:**\n",
    "\n",
    "Etapa 1: Aplique os conceitos de estatística trabalhados durante toda a unidade curricular no arquivo orientado pelo instrutor;\n",
    "\n",
    "Grupo 1: (ROXO) Anna Beatriz, Julia, Caren, Verônica, Ellisiane, Luciane\n",
    "FONTE: https://www.ispdados.rj.gov.br/Arquivos/BaseDPEvolucaoMensalCisp.csv\n",
    "-\n",
    "Grupo 2: (LILÁS) Alice, Aliciana, Larissa, Neuma, Stephanie, Liliane\n",
    "FONTE: https://www.ispdados.rj.gov.br/Arquivos/ArmasApreendidasEvolucaoCisp.csv\n",
    "-\n",
    "Grupo 3: (ÍNDIGO) Elisangela, Danielle, Vera, Sonelice,  Cristina, Vitória\n",
    "FONTE: https://www.ispdados.rj.gov.br/Arquivos/UppEvolucaoMensalDeTitulos.csv\n",
    "\n",
    "Etapa 2: carregamento de volume massivo de dados (BIG DATA) - a definir;\n",
    "\n",
    "Etapa 3: montagem visual das análises no Power BI - a definir.\n",
    "\n",
    "---\n",
    "\n"
   ]
  }
 ],
 "metadata": {
  "kernelspec": {
   "display_name": "virtual1",
   "language": "python",
   "name": "python3"
  },
  "language_info": {
   "codemirror_mode": {
    "name": "ipython",
    "version": 3
   },
   "file_extension": ".py",
   "mimetype": "text/x-python",
   "name": "python",
   "nbconvert_exporter": "python",
   "pygments_lexer": "ipython3",
   "version": "3.11.4"
  },
  "orig_nbformat": 4
 },
 "nbformat": 4,
 "nbformat_minor": 2
}
