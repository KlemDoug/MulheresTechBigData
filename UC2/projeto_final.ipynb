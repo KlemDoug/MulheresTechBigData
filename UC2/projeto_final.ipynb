{
 "cells": [
  {
   "cell_type": "markdown",
   "metadata": {},
   "source": [
    "**Análise Descritiva de Fonte de Dados Externa para um Tratamento de Big Data:**\n",
    "\n",
    "*Etapa 1:* Aplique os conceitos de estatística trabalhados durante toda a unidade curricular no arquivo orientado pelo instrutor;\n",
    "\n",
    "1. Grupo 1: (ROXO) Anna Beatriz, Julia, Caren, Verônica, Ellisiane, Luciane\n",
    "FONTE: https://www.ispdados.rj.gov.br/Arquivos/BaseDPEvolucaoMensalCisp.csv\n",
    "\n",
    "2. Grupo 2: (LILÁS) Alice, Aliciana, Larissa, Neuma, Stephanie, Liliane\n",
    "FONTE: https://www.ispdados.rj.gov.br/Arquivos/ArmasApreendidasEvolucaoCisp.csv\n",
    "\n",
    "3. Grupo 3: (ÍNDIGO) Elisangela, Danielle, Vera, Sonelice,  Cristina, Vitória\n",
    "FONTE: https://www.ispdados.rj.gov.br/Arquivos/UppEvolucaoMensalDeTitulos.csv\n",
    "\n",
    "\n",
    "*Etapa 2:* carregamento de volume massivo de dados (BIG DATA) - dados do Bolsa Família\n",
    "(https://portaldatransparencia.gov.br/download-de-dados/novo-bolsa-familia);\n",
    "Relacione as análises estatísticas descritivas para corroborar ou negar informações\n",
    "obtidas através de pesquisa bibliográfica.\n",
    "\n",
    "1. Grupo 1: (ROXO) Anna Beatriz, Julia, Caren, Verônica, Ellisiane, Luciane\n",
    "PERÍODO: ABRIL a JUNHO de 2023\n",
    "\n",
    "2. Grupo 2: (LILÁS) Alice, Aliciana, Larissa, Neuma, Stephanie, Liliane\n",
    "PERÍODO: JULHO a SETEMBRO de 2023\n",
    "\n",
    "3. Grupo 3: (ÍNDIGO) Elisangela, Danielle, Vera, Sonelice,  Cristina, Vitória\n",
    "PERÍODO: OUTUBRO a DEZEMBRO de 2023\n",
    "\n",
    "\n",
    "*Etapa 3:* montagem visual das análises no Power BI:\n",
    "\n",
    "1. Utilizem o arquivo 'CriandocontaPowerBI.pdf' para preparem uma conta online habilitada para trabalhar no Workspaces (https://app.powerbi.com/).\n",
    "\n",
    "2. A definir durante a aula do dia 21/11/2024.\n",
    "\n",
    "---\n",
    "\n"
   ]
  },
  {
   "cell_type": "markdown",
   "metadata": {},
   "source": []
  }
 ],
 "metadata": {
  "kernelspec": {
   "display_name": "virtual1",
   "language": "python",
   "name": "python3"
  },
  "language_info": {
   "codemirror_mode": {
    "name": "ipython",
    "version": 3
   },
   "file_extension": ".py",
   "mimetype": "text/x-python",
   "name": "python",
   "nbconvert_exporter": "python",
   "pygments_lexer": "ipython3",
   "version": "3.11.4"
  },
  "orig_nbformat": 4
 },
 "nbformat": 4,
 "nbformat_minor": 2
}
